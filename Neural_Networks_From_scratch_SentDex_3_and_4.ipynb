{
  "nbformat": 4,
  "nbformat_minor": 0,
  "metadata": {
    "colab": {
      "provenance": [],
      "authorship_tag": "ABX9TyMcmddFqLx9ov9Hw9/FBETk",
      "include_colab_link": true
    },
    "kernelspec": {
      "name": "python3",
      "display_name": "Python 3"
    },
    "language_info": {
      "name": "python"
    }
  },
  "cells": [
    {
      "cell_type": "markdown",
      "metadata": {
        "id": "view-in-github",
        "colab_type": "text"
      },
      "source": [
        "<a href=\"https://colab.research.google.com/github/Rishirajbal/Rishirajbal/blob/main/Neural_Networks_From_scratch_SentDex_3_and_4.ipynb\" target=\"_parent\"><img src=\"https://colab.research.google.com/assets/colab-badge.svg\" alt=\"Open In Colab\"/></a>"
      ]
    },
    {
      "cell_type": "code",
      "execution_count": null,
      "metadata": {
        "id": "MKzzlT5RL_aN"
      },
      "outputs": [],
      "source": [
        "inputs = [1, 2, 3, 2.5]\n",
        "weights = [[0.2, 0.8, -0.5, 1.0], [0.4, 0.2, -0.2, 0.5], [0.15, 0.9, -0.4, 0.2]]\n",
        "bias = [2, 1, 0.5]"
      ]
    },
    {
      "cell_type": "code",
      "source": [
        "#single weight,single input setup\n",
        "import numpy as np\n",
        "inputs = [1, 2, 3, 2.5]\n",
        "weights =[0.2, 0.8, -0.5, 1.0]\n",
        "bias =2\n",
        "output = np.dot(inputs,weights)+bias\n",
        "print(output)"
      ],
      "metadata": {
        "colab": {
          "base_uri": "https://localhost:8080/"
        },
        "id": "_zN-s4hnb1xE",
        "outputId": "272b2b6b-1cb9-4012-e1f4-9889158f6bf4"
      },
      "execution_count": null,
      "outputs": [
        {
          "output_type": "stream",
          "name": "stdout",
          "text": [
            "4.8\n"
          ]
        }
      ]
    },
    {
      "cell_type": "code",
      "source": [
        "#multi-weight,single input setup\n",
        "import numpy as np\n",
        "inputs = [1, 2, 3, 2.5]\n",
        "weights = [[0.2, 0.8, -0.5, 1.0],\n",
        "            [0.4, 0.2, -0.2, 0.5],\n",
        "             [0.15, 0.9, -0.4, 0.2]]\n",
        "bias = [2, 1, 0.5]\n",
        "output=np.dot(weights,inputs)+bias\n",
        "print(output)"
      ],
      "metadata": {
        "colab": {
          "base_uri": "https://localhost:8080/"
        },
        "id": "9L-jdMgBdk_O",
        "outputId": "def0cb66-4949-447d-ff38-012de60e32d1"
      },
      "execution_count": null,
      "outputs": [
        {
          "output_type": "stream",
          "name": "stdout",
          "text": [
            "[4.8  2.45 1.75]\n"
          ]
        }
      ]
    },
    {
      "source": [
        "#multi-weight,multi-input setup\n",
        "import numpy as np\n",
        "inputs = [[1, 2, 3, 2.5],\n",
        "           [2.0,5.0,-1.0,2.0],\n",
        "            [-1.5,2.7,3.3,-0.8]]\n",
        "weights = [[0.2, 0.8, -0.5, 1.0],\n",
        "            [0.4, 0.2, -0.2, 0.5],\n",
        "             [0.15, 0.9, -0.4, 0.2]]\n",
        "transposed_weights = np.array(weights).T\n",
        "bias = [2,3, 0.5]\n",
        "output=np.dot(inputs ,transposed_weights )+bias\n",
        "print(output)"
      ],
      "cell_type": "code",
      "metadata": {
        "colab": {
          "base_uri": "https://localhost:8080/"
        },
        "id": "4hWdVBsIoavo",
        "outputId": "5a5065e5-8f28-4f81-9383-781979c67fa6"
      },
      "execution_count": null,
      "outputs": [
        {
          "output_type": "stream",
          "name": "stdout",
          "text": [
            "[[4.8   4.45  1.75 ]\n",
            " [8.9   6.    6.1  ]\n",
            " [1.41  1.88  1.225]]\n"
          ]
        }
      ]
    },
    {
      "cell_type": "code",
      "source": [
        "#multi-weight,multi-input,multi layered setup\n",
        "import numpy as np\n",
        "inputs = [[1, 2, 3, 2.5],\n",
        "           [2.0,5.0,-1.0,2.0],\n",
        "            [-1.5,2.7,3.3,-0.8]]\n",
        "weights = [[0.2, 0.8, -0.5, 1.0],\n",
        "            [0.4, 0.2, -0.2, 0.5],\n",
        "             [0.15, 0.9, -0.4, 0.2]]\n",
        "bias = [2,3, 0.5]\n",
        "weights2=[[0.1,-0.14,0.5],\n",
        "          [-0.5,0.12,-0.33],\n",
        "           [-0.44,0.73,-0.13]]\n",
        "bias2=[-1,2,-0.5]\n",
        "layer_output1=np.dot(inputs,np.array(weights).T)+bias\n",
        "layer_output2=np.dot(layer_output1,np.array(weights2).T)+bias2 #input_2 = layer_output2 = np.dot(inputs,np.array(weights).T)+bias\n",
        "\n",
        "print(layer_output2)"
      ],
      "metadata": {
        "colab": {
          "base_uri": "https://localhost:8080/"
        },
        "id": "B95mrcaBxMIG",
        "outputId": "326fef94-af7d-43be-fb3d-86dc6610927c"
      },
      "execution_count": null,
      "outputs": [
        {
          "output_type": "stream",
          "name": "stdout",
          "text": [
            "[[-0.268   -0.4435   0.409  ]\n",
            " [ 2.1     -3.743   -0.829  ]\n",
            " [-0.5097   1.11635  0.09275]]\n"
          ]
        }
      ]
    },
    {
      "source": [
        "#multi-weight,multi-input,multi layered setup,with objects\n",
        "import numpy as np\n",
        "np.random.seed(0)\n",
        "X =[[1, 2, 3, 2.5],\n",
        "      [2.0,5.0,-1.0,2.0],\n",
        "        [-1.5,2.7,3.3,-0.8]]\n",
        "\n",
        "class layer_dense:\n",
        "  def __init__(self,n_inputs,n_neurons):\n",
        "    self.weights=0.10*np.random.randn(n_inputs,n_neurons) # the correct would have been 0.10*np.random.randn(n_neurons,n_inputs) but in the forward method we would have to do transpose so we did it here\n",
        "    self.biases=np.zeros((1,n_neurons)) # 1 is the shape and n_neurons is number of nuerons we want\n",
        "  def forward(self,inputs):\n",
        "       self.output=np.dot(inputs,self.weights)+self.biases\n",
        "\n",
        "layer1=layer_dense(4,5)\n",
        "layer2=layer_dense(5,5)\n",
        "\n",
        "layer1.forward(X)\n",
        "print(layer1.output)\n",
        "layer2.forward(layer1.output)\n",
        "print(layer2.output)"
      ],
      "cell_type": "code",
      "metadata": {
        "colab": {
          "base_uri": "https://localhost:8080/"
        },
        "id": "BlEo_wu6I6vx",
        "outputId": "5d169fa3-62e2-4916-d6f5-57220693a325"
      },
      "execution_count": null,
      "outputs": [
        {
          "output_type": "stream",
          "name": "stdout",
          "text": [
            "[[ 0.10758131  1.03983522  0.24462411  0.31821498  0.18851053]\n",
            " [-0.08349796  0.70846411  0.00293357  0.44701525  0.36360538]\n",
            " [-0.50763245  0.55688422  0.07987797 -0.34889573  0.04553042]]\n",
            "[[-0.18969615  0.03342147 -0.02578516  0.12739327  0.14946944]\n",
            " [-0.1128111   0.00125844 -0.0290323   0.1678249   0.05300012]\n",
            " [ 0.03961535 -0.07700061 -0.11111625  0.12960619 -0.02794614]]\n"
          ]
        }
      ]
    },
    {
      "cell_type": "code",
      "source": [
        "#let's add a activation function basically turns the linear function into a curve to be able to calculate the lowest point\n",
        "# example RELU\n",
        "import numpy as np\n",
        "np.random.seed(0)\n",
        "X =[[1, 2, 3, 2.5],\n",
        "      [2.0,5.0,-1.0,2.0],\n",
        "        [-1.5,2.7,3.3,-0.8]]\n",
        "\n",
        "inputs =[0,2,-1,3.3,-2.7,1.1,2.2,-100]\n",
        "output=[]\n",
        "for i in inputs:\n",
        "  output.append(max(0,i))\n",
        "print(output)"
      ],
      "metadata": {
        "id": "e24H9cNR4c5i",
        "colab": {
          "base_uri": "https://localhost:8080/"
        },
        "outputId": "c4f26b70-f1a7-4e81-a63f-11eedeaa5115"
      },
      "execution_count": null,
      "outputs": [
        {
          "output_type": "stream",
          "name": "stdout",
          "text": [
            "[0, 2, 0, 3.3, 0, 1.1, 2.2, 0]\n"
          ]
        }
      ]
    },
    {
      "cell_type": "code",
      "source": [
        "from typing import KeysView\n",
        "import numpy as np\n",
        "\n",
        "np.random.seed(0)\n",
        "\n",
        "X = [[1, 2, 3, 2.5],\n",
        "     [2.0, 5.0, -1.0, 2.0],\n",
        "     [-1.5, 2.7, 3.3, -0.8]]\n",
        "\n",
        "class LayerDense:\n",
        "    def __init__(self, n_inputs, n_neurons):\n",
        "        self.weights = 0.10 * np.random.randn(n_inputs, n_neurons)\n",
        "        self.biases = np.zeros((1, n_neurons))\n",
        "\n",
        "    def forward(self, inputs):\n",
        "        self.output = np.dot(inputs, self.weights) + self.biases\n",
        "\n",
        "\n",
        "class relu:\n",
        "  def forward(self,inputs):\n",
        "    self.output=np.maximum(0,inputs)\n",
        "\n",
        "j = int(input(\"what is the number of hidden layers? \"))\n",
        "k = int(input(\"what is the number of outputs? \"))\n",
        "\n",
        "layer1 = LayerDense(4, j)\n",
        "layer2 = LayerDense(j, k)\n",
        "\n",
        "layer1.forward(X)\n",
        "layer2.forward(layer1.output)\n"
      ],
      "metadata": {
        "colab": {
          "base_uri": "https://localhost:8080/"
        },
        "id": "Tow2Wk_Ehvrw",
        "outputId": "a6561805-feaa-434e-a5cb-9b0dd98af280"
      },
      "execution_count": null,
      "outputs": [
        {
          "output_type": "stream",
          "name": "stdout",
          "text": [
            "what is the number of hidden layers? 3\n",
            "what is the number of outputs? 2\n",
            "[[0.13008869 0.02097984]\n",
            " [0.15932724 0.05289362]\n",
            " [0.         0.03183967]]\n"
          ]
        }
      ]
    },
    {
      "cell_type": "code",
      "source": [
        "!pip install nnfs"
      ],
      "metadata": {
        "colab": {
          "base_uri": "https://localhost:8080/"
        },
        "id": "xLw6QjXrzJeP",
        "outputId": "dc5c22ce-4021-48c2-d278-8531d99f7257"
      },
      "execution_count": null,
      "outputs": [
        {
          "output_type": "stream",
          "name": "stdout",
          "text": [
            "Collecting nnfs\n",
            "  Downloading nnfs-0.5.1-py3-none-any.whl.metadata (1.7 kB)\n",
            "Requirement already satisfied: numpy in /usr/local/lib/python3.10/dist-packages (from nnfs) (1.26.4)\n",
            "Downloading nnfs-0.5.1-py3-none-any.whl (9.1 kB)\n",
            "Installing collected packages: nnfs\n",
            "Successfully installed nnfs-0.5.1\n"
          ]
        }
      ]
    },
    {
      "cell_type": "code",
      "source": [
        "from typing import KeysView\n",
        "import numpy as np\n",
        "import nnfs\n",
        "nnfs.init()\n",
        "\n",
        "from nnfs.datasets import spiral_data\n",
        "\n",
        "X, y = spiral_data(100, 3)\n",
        "\n",
        "class LayerDense:\n",
        "    def __init__(self, n_inputs, n_neurons):\n",
        "        self.weights = 0.10 * np.random.randn(n_inputs, n_neurons)\n",
        "        self.biases = np.zeros((1, n_neurons))\n",
        "\n",
        "    def forward(self, inputs):\n",
        "        self.output = np.dot(inputs, self.weights) + self.biases\n",
        "\n",
        "class ReLU:\n",
        "    def forward(self, inputs):\n",
        "        self.output = np.maximum(0, inputs)\n",
        "\n",
        "j = int(input(\"Number of neurons: \"))\n",
        "\n",
        "layer1 = LayerDense(2, j)\n",
        "activation1 = ReLU()\n",
        "\n",
        "layer1.forward(X)\n",
        "activation1.forward(layer1.output)\n",
        "\n",
        "print(activation1.output)"
      ],
      "metadata": {
        "colab": {
          "base_uri": "https://localhost:8080/"
        },
        "id": "IKrXf045zvoO",
        "outputId": "62e1cd1e-77c6-4f62-8ebd-7b903ab56a11"
      },
      "execution_count": null,
      "outputs": [
        {
          "output_type": "stream",
          "name": "stdout",
          "text": [
            "Number of neurons: 6\n",
            "[[0.0000000e+00 0.0000000e+00 0.0000000e+00 0.0000000e+00 0.0000000e+00\n",
            "  0.0000000e+00]\n",
            " [0.0000000e+00 0.0000000e+00 6.3385908e-04 0.0000000e+00 7.0642207e-05\n",
            "  9.0164586e-04]\n",
            " [0.0000000e+00 3.9957227e-05 9.2750194e-04 0.0000000e+00 6.5028836e-04\n",
            "  1.0838244e-03]\n",
            " ...\n",
            " [9.2587270e-02 0.0000000e+00 2.7677365e-02 6.0882296e-02 0.0000000e+00\n",
            "  6.9344796e-02]\n",
            " [1.4715683e-01 0.0000000e+00 1.5908248e-03 6.8911701e-02 0.0000000e+00\n",
            "  2.9615715e-02]\n",
            " [7.8694962e-02 0.0000000e+00 3.4270126e-02 5.8806412e-02 0.0000000e+00\n",
            "  7.9367116e-02]]\n"
          ]
        }
      ]
    },
    {
      "cell_type": "markdown",
      "source": [
        "Softmax activation function"
      ],
      "metadata": {
        "id": "w02-QIwr3vb2"
      }
    },
    {
      "cell_type": "code",
      "source": [
        "import math\n",
        "E= math.e\n",
        "output=[2.44,5.22,5.8594]\n",
        "\n",
        "exp=[]\n",
        "for i in output:\n",
        "  exp.append(E**i)\n",
        "  print(exp)\n",
        ""
      ],
      "metadata": {
        "id": "E6haTkMU323z",
        "colab": {
          "base_uri": "https://localhost:8080/"
        },
        "outputId": "245695c7-842e-4b03-9fd6-98285926dc65"
      },
      "execution_count": 1,
      "outputs": [
        {
          "output_type": "stream",
          "name": "stdout",
          "text": [
            "[11.473040742794831]\n",
            "[11.473040742794831, 184.93418407068333]\n",
            "[11.473040742794831, 184.93418407068333, 350.5137726512231]\n"
          ]
        }
      ]
    }
  ]
}